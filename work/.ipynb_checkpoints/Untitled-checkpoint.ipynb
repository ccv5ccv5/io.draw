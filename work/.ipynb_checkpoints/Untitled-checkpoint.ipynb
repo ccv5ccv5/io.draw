{
 "cells": [
  {
   "cell_type": "code",
   "execution_count": 1,
   "id": "d6495aea",
   "metadata": {},
   "outputs": [],
   "source": [
    "import fmz"
   ]
  },
  {
   "cell_type": "code",
   "execution_count": 2,
   "id": "0a7c24a8",
   "metadata": {},
   "outputs": [],
   "source": [
    "import ccxt"
   ]
  },
  {
   "cell_type": "code",
   "execution_count": 3,
   "id": "61ebc9e7",
   "metadata": {},
   "outputs": [],
   "source": [
    "import talib"
   ]
  },
  {
   "cell_type": "code",
   "execution_count": 12,
   "id": "8f5f4595",
   "metadata": {},
   "outputs": [
    {
     "ename": "TypeError",
     "evalue": "describe() missing 1 required positional argument: 'self'",
     "output_type": "error",
     "traceback": [
      "\u001b[0;31m\u001b[0m",
      "\u001b[0;31mTypeError\u001b[0mTraceback (most recent call last)",
      "\u001b[0;32m<ipython-input-12-7afdffcad3c0>\u001b[0m in \u001b[0;36m<module>\u001b[0;34m\u001b[0m\n\u001b[1;32m      1\u001b[0m \u001b[0mexchange\u001b[0m \u001b[0;34m=\u001b[0m \u001b[0mccxt\u001b[0m\u001b[0;34m.\u001b[0m\u001b[0mbittrex\u001b[0m\u001b[0;34m\u001b[0m\u001b[0;34m\u001b[0m\u001b[0m\n\u001b[0;32m----> 2\u001b[0;31m \u001b[0mprint\u001b[0m\u001b[0;34m(\u001b[0m\u001b[0mexchange\u001b[0m\u001b[0;34m.\u001b[0m\u001b[0mdescribe\u001b[0m\u001b[0;34m(\u001b[0m\u001b[0;34m)\u001b[0m\u001b[0;34m)\u001b[0m\u001b[0;34m\u001b[0m\u001b[0;34m\u001b[0m\u001b[0m\n\u001b[0m",
      "\u001b[0;31mTypeError\u001b[0m: describe() missing 1 required positional argument: 'self'"
     ]
    }
   ],
   "source": [
    "exchange = ccxt.bittrex()\n",
    "print(exchange.describe())"
   ]
  },
  {
   "cell_type": "code",
   "execution_count": null,
   "id": "b1b99535",
   "metadata": {},
   "outputs": [],
   "source": []
  }
 ],
 "metadata": {
  "kernelspec": {
   "display_name": "Python 3",
   "language": "python",
   "name": "python3"
  },
  "language_info": {
   "codemirror_mode": {
    "name": "ipython",
    "version": 3
   },
   "file_extension": ".py",
   "mimetype": "text/x-python",
   "name": "python",
   "nbconvert_exporter": "python",
   "pygments_lexer": "ipython3",
   "version": "3.9.2"
  }
 },
 "nbformat": 4,
 "nbformat_minor": 5
}
