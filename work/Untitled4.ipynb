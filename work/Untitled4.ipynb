{
 "cells": [
  {
   "cell_type": "code",
   "execution_count": 7,
   "id": "7fa32b3a",
   "metadata": {},
   "outputs": [
    {
     "name": "stdout",
     "output_type": "stream",
     "text": [
      "[(0, 1), (1, 2), (2, 3)]\n",
      "[]\n",
      "[0]\n"
     ]
    }
   ],
   "source": [
    "import networkx as nx\n",
    "G = nx.path_graph(4)  # or DiGraph, MultiGraph, MultiDiGraph, etc\n",
    "print(list(G.edges))\n",
    "H = G.subgraph([0])\n",
    "print(list(H.edges))\n",
    "print(list(H.nodes))"
   ]
  },
  {
   "cell_type": "code",
   "execution_count": null,
   "id": "3965f60e",
   "metadata": {},
   "outputs": [],
   "source": []
  }
 ],
 "metadata": {
  "kernelspec": {
   "display_name": "Python 3",
   "language": "python",
   "name": "python3"
  },
  "language_info": {
   "codemirror_mode": {
    "name": "ipython",
    "version": 3
   },
   "file_extension": ".py",
   "mimetype": "text/x-python",
   "name": "python",
   "nbconvert_exporter": "python",
   "pygments_lexer": "ipython3",
   "version": "3.9.2"
  }
 },
 "nbformat": 4,
 "nbformat_minor": 5
}
